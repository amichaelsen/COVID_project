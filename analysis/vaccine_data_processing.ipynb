{
 "cells": [
  {
   "cell_type": "markdown",
   "id": "6c09d508",
   "metadata": {},
   "source": [
    "## State Vaccination Data Processing\n",
    "\n",
    "\n",
    "#### The Data: \n",
    "The vaccination data was obtained from the CDC, the Center for Disease Control. Which maintains daily data of recorded vaccines by state [here](https://data.cdc.gov/Vaccinations/COVID-19-Vaccinations-in-the-United-States-Jurisdi/unsk-b7fc). \n",
    "\n",
    "The features of interest for our analysis are:\n",
    "* `Date` the date of current vaccine data\n",
    "* `Location` the letter state code \n",
    "* `Administered` counts of doses administered based on state __where administered__\n",
    "* `Administered_XXPlus` counts of doses administered to those age XX and older based on the jurisdiction __where recipient lives__\n",
    "* `Series_Complete_Yes` total number of people who are fully vaccinated (have second dose of a two-dose vaccine or one dose of a single-dose vaccine) based on the jurisdiction __where recipient lives__\n",
    "* `Series_Complete_XXPlus` total number of people 12+ who are fully vaccinated (have second dose of a two-dose vaccine or one dose of a single-dose vaccine) based on the jurisdiction __where recipient lives__\n",
    "\n",
    "#### The Significance: \n",
    "Since COVID has been shown to spread more indoors than outdoors, during extreme temperatures people are more likely to gather inside which may contribute to an increase in transmission. The temperature data, while is does not include other weather factors such as rain or snow, may improve modeling by capturing these indoor gathering tendencies. "
   ]
  },
  {
   "cell_type": "code",
   "execution_count": 27,
   "id": "977a0d97",
   "metadata": {},
   "outputs": [],
   "source": [
    "import pandas as pd"
   ]
  },
  {
   "cell_type": "code",
   "execution_count": 28,
   "id": "4c1a170c",
   "metadata": {},
   "outputs": [],
   "source": [
    "#data source: https://data.cdc.gov/Vaccinations/COVID-19-Vaccinations-in-the-United-States-Jurisdi/unsk-b7fc\n",
    "vaccine_data = pd.read_csv('../data/us_vaccination_data.csv')"
   ]
  },
  {
   "cell_type": "code",
   "execution_count": 29,
   "id": "35101953",
   "metadata": {},
   "outputs": [
    {
     "data": {
      "text/html": [
       "<div>\n",
       "<style scoped>\n",
       "    .dataframe tbody tr th:only-of-type {\n",
       "        vertical-align: middle;\n",
       "    }\n",
       "\n",
       "    .dataframe tbody tr th {\n",
       "        vertical-align: top;\n",
       "    }\n",
       "\n",
       "    .dataframe thead th {\n",
       "        text-align: right;\n",
       "    }\n",
       "</style>\n",
       "<table border=\"1\" class=\"dataframe\">\n",
       "  <thead>\n",
       "    <tr style=\"text-align: right;\">\n",
       "      <th></th>\n",
       "      <th>Date</th>\n",
       "      <th>MMWR_week</th>\n",
       "      <th>Location</th>\n",
       "      <th>Distributed</th>\n",
       "      <th>Distributed_Janssen</th>\n",
       "      <th>Distributed_Moderna</th>\n",
       "      <th>Distributed_Pfizer</th>\n",
       "      <th>Distributed_Unk_Manuf</th>\n",
       "      <th>Dist_Per_100K</th>\n",
       "      <th>Distributed_Per_100k_12Plus</th>\n",
       "      <th>...</th>\n",
       "      <th>Additional_Doses_18Plus</th>\n",
       "      <th>Additional_Doses_18Plus_Vax_Pct</th>\n",
       "      <th>Additional_Doses_50Plus</th>\n",
       "      <th>Additional_Doses_50Plus_Vax_Pct</th>\n",
       "      <th>Additional_Doses_65Plus</th>\n",
       "      <th>Additional_Doses_65Plus_Vax_Pct</th>\n",
       "      <th>Additional_Doses_Moderna</th>\n",
       "      <th>Additional_Doses_Pfizer</th>\n",
       "      <th>Additional_Doses_Janssen</th>\n",
       "      <th>Additional_Doses_Unk_Manuf</th>\n",
       "    </tr>\n",
       "  </thead>\n",
       "  <tbody>\n",
       "    <tr>\n",
       "      <th>0</th>\n",
       "      <td>2021-11-18</td>\n",
       "      <td>46</td>\n",
       "      <td>WI</td>\n",
       "      <td>9104875</td>\n",
       "      <td>401300</td>\n",
       "      <td>3498440</td>\n",
       "      <td>5205135</td>\n",
       "      <td>0</td>\n",
       "      <td>156376</td>\n",
       "      <td>182105</td>\n",
       "      <td>...</td>\n",
       "      <td>798557.0</td>\n",
       "      <td>24.7</td>\n",
       "      <td>631862.0</td>\n",
       "      <td>34.5</td>\n",
       "      <td>453152.0</td>\n",
       "      <td>48.2</td>\n",
       "      <td>288513.0</td>\n",
       "      <td>503091.0</td>\n",
       "      <td>7579.0</td>\n",
       "      <td>25.0</td>\n",
       "    </tr>\n",
       "    <tr>\n",
       "      <th>1</th>\n",
       "      <td>2021-11-18</td>\n",
       "      <td>46</td>\n",
       "      <td>ME</td>\n",
       "      <td>2577840</td>\n",
       "      <td>140100</td>\n",
       "      <td>1045780</td>\n",
       "      <td>1391960</td>\n",
       "      <td>0</td>\n",
       "      <td>191773</td>\n",
       "      <td>217551</td>\n",
       "      <td>...</td>\n",
       "      <td>210467.0</td>\n",
       "      <td>23.2</td>\n",
       "      <td>177348.0</td>\n",
       "      <td>33.2</td>\n",
       "      <td>130614.0</td>\n",
       "      <td>47.6</td>\n",
       "      <td>88826.0</td>\n",
       "      <td>118554.0</td>\n",
       "      <td>3025.0</td>\n",
       "      <td>177.0</td>\n",
       "    </tr>\n",
       "  </tbody>\n",
       "</table>\n",
       "<p>2 rows × 69 columns</p>\n",
       "</div>"
      ],
      "text/plain": [
       "        Date  MMWR_week Location  Distributed  Distributed_Janssen  \\\n",
       "0 2021-11-18         46       WI      9104875               401300   \n",
       "1 2021-11-18         46       ME      2577840               140100   \n",
       "\n",
       "   Distributed_Moderna  Distributed_Pfizer  Distributed_Unk_Manuf  \\\n",
       "0              3498440             5205135                      0   \n",
       "1              1045780             1391960                      0   \n",
       "\n",
       "   Dist_Per_100K  Distributed_Per_100k_12Plus  ...  Additional_Doses_18Plus  \\\n",
       "0         156376                       182105  ...                 798557.0   \n",
       "1         191773                       217551  ...                 210467.0   \n",
       "\n",
       "   Additional_Doses_18Plus_Vax_Pct  Additional_Doses_50Plus  \\\n",
       "0                             24.7                 631862.0   \n",
       "1                             23.2                 177348.0   \n",
       "\n",
       "   Additional_Doses_50Plus_Vax_Pct  Additional_Doses_65Plus  \\\n",
       "0                             34.5                 453152.0   \n",
       "1                             33.2                 130614.0   \n",
       "\n",
       "   Additional_Doses_65Plus_Vax_Pct  Additional_Doses_Moderna  \\\n",
       "0                             48.2                  288513.0   \n",
       "1                             47.6                   88826.0   \n",
       "\n",
       "   Additional_Doses_Pfizer  Additional_Doses_Janssen  \\\n",
       "0                 503091.0                    7579.0   \n",
       "1                 118554.0                    3025.0   \n",
       "\n",
       "   Additional_Doses_Unk_Manuf  \n",
       "0                        25.0  \n",
       "1                       177.0  \n",
       "\n",
       "[2 rows x 69 columns]"
      ]
     },
     "execution_count": 29,
     "metadata": {},
     "output_type": "execute_result"
    }
   ],
   "source": [
    "vaccine_data.loc[:,'Date'] = pd.to_datetime(vaccine_data['Date'])\n",
    "vaccine_data.head(2)"
   ]
  },
  {
   "cell_type": "code",
   "execution_count": 30,
   "id": "fa06b75f",
   "metadata": {},
   "outputs": [
    {
     "data": {
      "text/plain": [
       "Index(['Date', 'MMWR_week', 'Location', 'Distributed', 'Distributed_Janssen',\n",
       "       'Distributed_Moderna', 'Distributed_Pfizer', 'Distributed_Unk_Manuf',\n",
       "       'Dist_Per_100K', 'Distributed_Per_100k_12Plus',\n",
       "       'Distributed_Per_100k_18Plus', 'Distributed_Per_100k_65Plus',\n",
       "       'Administered', 'Administered_12Plus', 'Administered_18Plus',\n",
       "       'Administered_65Plus', 'Administered_Janssen', 'Administered_Moderna',\n",
       "       'Administered_Pfizer', 'Administered_Unk_Manuf', 'Admin_Per_100K',\n",
       "       'Admin_Per_100k_12Plus', 'Admin_Per_100k_18Plus',\n",
       "       'Admin_Per_100k_65Plus', 'Recip_Administered',\n",
       "       'Administered_Dose1_Recip', 'Administered_Dose1_Pop_Pct',\n",
       "       'Administered_Dose1_Recip_12Plus',\n",
       "       'Administered_Dose1_Recip_12PlusPop_Pct',\n",
       "       'Administered_Dose1_Recip_18Plus',\n",
       "       'Administered_Dose1_Recip_18PlusPop_Pct',\n",
       "       'Administered_Dose1_Recip_65Plus',\n",
       "       'Administered_Dose1_Recip_65PlusPop_Pct', 'Series_Complete_Yes',\n",
       "       'Series_Complete_Pop_Pct', 'Series_Complete_12Plus',\n",
       "       'Series_Complete_12PlusPop_Pct', 'Series_Complete_18Plus',\n",
       "       'Series_Complete_18PlusPop_Pct', 'Series_Complete_65Plus',\n",
       "       'Series_Complete_65PlusPop_Pct', 'Series_Complete_Janssen',\n",
       "       'Series_Complete_Moderna', 'Series_Complete_Pfizer',\n",
       "       'Series_Complete_Unk_Manuf', 'Series_Complete_Janssen_12Plus',\n",
       "       'Series_Complete_Moderna_12Plus', 'Series_Complete_Pfizer_12Plus',\n",
       "       'Series_Complete_Unk_Manuf_12Plus', 'Series_Complete_Janssen_18Plus',\n",
       "       'Series_Complete_Moderna_18Plus', 'Series_Complete_Pfizer_18Plus',\n",
       "       'Series_Complete_Unk_Manuf_18Plus', 'Series_Complete_Janssen_65Plus',\n",
       "       'Series_Complete_Moderna_65Plus', 'Series_Complete_Pfizer_65Plus',\n",
       "       'Series_Complete_Unk_Manuf_65Plus', 'Additional_Doses',\n",
       "       'Additional_Doses_Vax_Pct', 'Additional_Doses_18Plus',\n",
       "       'Additional_Doses_18Plus_Vax_Pct', 'Additional_Doses_50Plus',\n",
       "       'Additional_Doses_50Plus_Vax_Pct', 'Additional_Doses_65Plus',\n",
       "       'Additional_Doses_65Plus_Vax_Pct', 'Additional_Doses_Moderna',\n",
       "       'Additional_Doses_Pfizer', 'Additional_Doses_Janssen',\n",
       "       'Additional_Doses_Unk_Manuf'],\n",
       "      dtype='object')"
      ]
     },
     "execution_count": 30,
     "metadata": {},
     "output_type": "execute_result"
    }
   ],
   "source": [
    "vaccine_data.columns"
   ]
  },
  {
   "cell_type": "code",
   "execution_count": 31,
   "id": "a7eeb66b",
   "metadata": {},
   "outputs": [
    {
     "data": {
      "text/plain": [
       "array(['WI', 'ME', 'TN', 'MH', 'AK', 'DC', 'SC', 'US', 'OK', 'AZ', 'DD2',\n",
       "       'VI', 'IA', 'MP', 'RI', 'GA', 'UT', 'ID', 'NE', 'ND', 'VA2', 'NH',\n",
       "       'VA', 'PR', 'IH2', 'HI', 'AS', 'PA', 'CT', 'IN', 'NM', 'TX', 'WY',\n",
       "       'MT', 'MD', 'RP', 'DE', 'NJ', 'IL', 'AR', 'MI', 'KS', 'WV', 'WA',\n",
       "       'SD', 'OR', 'VT', 'BP2', 'NY', 'CO', 'NV', 'KY', 'MO', 'LA', 'MA',\n",
       "       'MS', 'NC', 'MN', 'FM', 'GU', 'AL', 'FL', 'CA', 'OH', 'LTC'],\n",
       "      dtype=object)"
      ]
     },
     "execution_count": 31,
     "metadata": {},
     "output_type": "execute_result"
    }
   ],
   "source": [
    "vaccine_data['Location'].unique()"
   ]
  },
  {
   "cell_type": "markdown",
   "id": "fa2cd1a5",
   "metadata": {},
   "source": [
    "Since locations are store with abbreviations, we will convert these to full state names for consistency. "
   ]
  },
  {
   "cell_type": "code",
   "execution_count": 32,
   "id": "f4930f34",
   "metadata": {},
   "outputs": [],
   "source": [
    "# convert state codes to state names\n",
    "# dict creds to: https://gist.github.com/rugbyprof/76575b470b6772ce8fa0c49e23931d97\n",
    "states_codes_dict = {\"AL\":\"Alabama\",\"AK\":\"Alaska\",\"AZ\":\"Arizona\",\"AR\":\"Arkansas\",\n",
    "          \"CA\":\"California\",\"CO\":\"Colorado\",\"CT\":\"Connecticut\",\"DE\":\"Delaware\",\n",
    "          \"FL\":\"Florida\",\"GA\":\"Georgia\",\"HI\":\"Hawaii\",\"ID\":\"Idaho\",\n",
    "          \"IL\":\"Illinois\",\"IN\":\"Indiana\",\"IA\":\"Iowa\",\"KS\":\"Kansas\",\n",
    "          \"KY\":\"Kentucky\",\"LA\":\"Louisiana\",\"ME\":\"Maine\",\"MD\":\"Maryland\",\n",
    "          \"MA\":\"Massachusetts\",\"MI\":\"Michigan\",\"MN\":\"Minnesota\",\"MS\":\"Mississippi\",\n",
    "          \"MO\":\"Missouri\",\"MT\":\"Montana\",\"NE\":\"Nebraska\",\"NV\":\"Nevada\",\n",
    "          \"NH\":\"New Hampshire\",\"NJ\":\"New Jersey\",\"NM\":\"New Mexico\",\"NY\":\"New York\",\n",
    "          \"NC\":\"North Carolina\",\"ND\":\"North Dakota\",\"OH\":\"Ohio\",\"OK\":\"Oklahoma\",\n",
    "          \"OR\":\"Oregon\",\"PA\":\"Pennsylvania\",\"RI\":\"Rhode Island\",\"SC\":\"South Carolina\",\n",
    "          \"SD\":\"South Dakota\",\"TN\":\"Tennessee\",\"TX\":\"Texas\",\"UT\":\"Utah\",\"VT\":\"Vermont\",\n",
    "          \"VA\":\"Virginia\",\"WA\":\"Washington\",\"WV\":\"West Virginia\",\"WI\":\"Wisconsin\",\"WY\":\"Wyoming\"}\n",
    "states_codes_dict['DC'] = 'District of Columbia'"
   ]
  },
  {
   "cell_type": "code",
   "execution_count": 33,
   "id": "7ea74025",
   "metadata": {},
   "outputs": [],
   "source": [
    "vaccine_data.replace({'Location':states_codes_dict}, inplace=True)"
   ]
  },
  {
   "cell_type": "code",
   "execution_count": 34,
   "id": "b8a34f32",
   "metadata": {},
   "outputs": [
    {
     "data": {
      "text/plain": [
       "49"
      ]
     },
     "execution_count": 34,
     "metadata": {},
     "output_type": "execute_result"
    }
   ],
   "source": [
    "# restrict down to contiguous regions in the US\n",
    "#vaccine_data['Location'].unique()\n",
    "contiguous_US = ['Michigan','Wyoming','Maryland','Massachusetts','Rhode Island','Oregon',\n",
    "                 'Pennsylvania','West Virginia','District of Columbia','Maine','Indiana',\n",
    "                 'Nevada','Georgia','New Mexico','Colorado','Virginia','Kentucky','Minnesota',\n",
    "                 'Arkansas','Connecticut','North Carolina','Montana','Oklahoma','Louisiana',\n",
    "                 'Nebraska','Alabama','Florida','North Dakota','Delaware','Vermont','Idaho',\n",
    "                 'Kansas','Wisconsin','New Jersey','Iowa','Missouri','New York','Utah',\n",
    "                 'Washington','Arizona','Tennessee','Ohio','Texas','Mississippi','South Carolina',\n",
    "                 'California','New Hampshire','South Dakota','Illinois']\n",
    "cont_vaccine_data = vaccine_data[vaccine_data['Location'].isin(contiguous_US)]\n",
    "cont_vaccine_data['Location'].nunique()"
   ]
  },
  {
   "cell_type": "markdown",
   "id": "76af8c9e",
   "metadata": {},
   "source": [
    "Let's now extract the portion of the data that contains our features of interest.  "
   ]
  },
  {
   "cell_type": "code",
   "execution_count": 35,
   "id": "bcbacfd5",
   "metadata": {},
   "outputs": [
    {
     "data": {
      "text/html": [
       "<div>\n",
       "<style scoped>\n",
       "    .dataframe tbody tr th:only-of-type {\n",
       "        vertical-align: middle;\n",
       "    }\n",
       "\n",
       "    .dataframe tbody tr th {\n",
       "        vertical-align: top;\n",
       "    }\n",
       "\n",
       "    .dataframe thead th {\n",
       "        text-align: right;\n",
       "    }\n",
       "</style>\n",
       "<table border=\"1\" class=\"dataframe\">\n",
       "  <thead>\n",
       "    <tr style=\"text-align: right;\">\n",
       "      <th></th>\n",
       "      <th>Date</th>\n",
       "      <th>Location</th>\n",
       "      <th>Administered</th>\n",
       "      <th>Administered_12Plus</th>\n",
       "      <th>Administered_18Plus</th>\n",
       "      <th>Administered_65Plus</th>\n",
       "      <th>Series_Complete_Yes</th>\n",
       "      <th>Series_Complete_12Plus</th>\n",
       "      <th>Series_Complete_18Plus</th>\n",
       "      <th>Series_Complete_65Plus</th>\n",
       "    </tr>\n",
       "  </thead>\n",
       "  <tbody>\n",
       "    <tr>\n",
       "      <th>0</th>\n",
       "      <td>2021-11-18</td>\n",
       "      <td>Wisconsin</td>\n",
       "      <td>7894520</td>\n",
       "      <td>7841780</td>\n",
       "      <td>7389860</td>\n",
       "      <td>2431771</td>\n",
       "      <td>3440272</td>\n",
       "      <td>3440016</td>\n",
       "      <td>3230556</td>\n",
       "      <td>940658</td>\n",
       "    </tr>\n",
       "    <tr>\n",
       "      <th>1</th>\n",
       "      <td>2021-11-18</td>\n",
       "      <td>Maine</td>\n",
       "      <td>2138582</td>\n",
       "      <td>2123392</td>\n",
       "      <td>2005383</td>\n",
       "      <td>695187</td>\n",
       "      <td>964009</td>\n",
       "      <td>963965</td>\n",
       "      <td>908548</td>\n",
       "      <td>274302</td>\n",
       "    </tr>\n",
       "    <tr>\n",
       "      <th>2</th>\n",
       "      <td>2021-11-18</td>\n",
       "      <td>Tennessee</td>\n",
       "      <td>7940729</td>\n",
       "      <td>7916920</td>\n",
       "      <td>7531012</td>\n",
       "      <td>2412611</td>\n",
       "      <td>3355930</td>\n",
       "      <td>3355609</td>\n",
       "      <td>3184450</td>\n",
       "      <td>928581</td>\n",
       "    </tr>\n",
       "    <tr>\n",
       "      <th>5</th>\n",
       "      <td>2021-11-18</td>\n",
       "      <td>District of Columbia</td>\n",
       "      <td>1132019</td>\n",
       "      <td>1127444</td>\n",
       "      <td>1084669</td>\n",
       "      <td>219742</td>\n",
       "      <td>449491</td>\n",
       "      <td>449429</td>\n",
       "      <td>430040</td>\n",
       "      <td>76083</td>\n",
       "    </tr>\n",
       "    <tr>\n",
       "      <th>6</th>\n",
       "      <td>2021-11-18</td>\n",
       "      <td>South Carolina</td>\n",
       "      <td>6020753</td>\n",
       "      <td>5993515</td>\n",
       "      <td>5681965</td>\n",
       "      <td>1970994</td>\n",
       "      <td>2621180</td>\n",
       "      <td>2618297</td>\n",
       "      <td>2474631</td>\n",
       "      <td>785941</td>\n",
       "    </tr>\n",
       "    <tr>\n",
       "      <th>...</th>\n",
       "      <td>...</td>\n",
       "      <td>...</td>\n",
       "      <td>...</td>\n",
       "      <td>...</td>\n",
       "      <td>...</td>\n",
       "      <td>...</td>\n",
       "      <td>...</td>\n",
       "      <td>...</td>\n",
       "      <td>...</td>\n",
       "      <td>...</td>\n",
       "    </tr>\n",
       "    <tr>\n",
       "      <th>22025</th>\n",
       "      <td>2020-12-14</td>\n",
       "      <td>Connecticut</td>\n",
       "      <td>0</td>\n",
       "      <td>0</td>\n",
       "      <td>0</td>\n",
       "      <td>0</td>\n",
       "      <td>0</td>\n",
       "      <td>0</td>\n",
       "      <td>0</td>\n",
       "      <td>0</td>\n",
       "    </tr>\n",
       "    <tr>\n",
       "      <th>22026</th>\n",
       "      <td>2020-12-14</td>\n",
       "      <td>Wyoming</td>\n",
       "      <td>0</td>\n",
       "      <td>0</td>\n",
       "      <td>0</td>\n",
       "      <td>0</td>\n",
       "      <td>0</td>\n",
       "      <td>0</td>\n",
       "      <td>0</td>\n",
       "      <td>0</td>\n",
       "    </tr>\n",
       "    <tr>\n",
       "      <th>22030</th>\n",
       "      <td>2020-12-14</td>\n",
       "      <td>Vermont</td>\n",
       "      <td>0</td>\n",
       "      <td>0</td>\n",
       "      <td>0</td>\n",
       "      <td>0</td>\n",
       "      <td>0</td>\n",
       "      <td>0</td>\n",
       "      <td>0</td>\n",
       "      <td>0</td>\n",
       "    </tr>\n",
       "    <tr>\n",
       "      <th>22032</th>\n",
       "      <td>2020-12-14</td>\n",
       "      <td>Mississippi</td>\n",
       "      <td>0</td>\n",
       "      <td>0</td>\n",
       "      <td>0</td>\n",
       "      <td>0</td>\n",
       "      <td>0</td>\n",
       "      <td>0</td>\n",
       "      <td>0</td>\n",
       "      <td>0</td>\n",
       "    </tr>\n",
       "    <tr>\n",
       "      <th>22033</th>\n",
       "      <td>2020-12-14</td>\n",
       "      <td>Nevada</td>\n",
       "      <td>0</td>\n",
       "      <td>0</td>\n",
       "      <td>0</td>\n",
       "      <td>0</td>\n",
       "      <td>0</td>\n",
       "      <td>0</td>\n",
       "      <td>0</td>\n",
       "      <td>0</td>\n",
       "    </tr>\n",
       "  </tbody>\n",
       "</table>\n",
       "<p>16660 rows × 10 columns</p>\n",
       "</div>"
      ],
      "text/plain": [
       "            Date              Location  Administered  Administered_12Plus  \\\n",
       "0     2021-11-18             Wisconsin       7894520              7841780   \n",
       "1     2021-11-18                 Maine       2138582              2123392   \n",
       "2     2021-11-18             Tennessee       7940729              7916920   \n",
       "5     2021-11-18  District of Columbia       1132019              1127444   \n",
       "6     2021-11-18        South Carolina       6020753              5993515   \n",
       "...          ...                   ...           ...                  ...   \n",
       "22025 2020-12-14           Connecticut             0                    0   \n",
       "22026 2020-12-14               Wyoming             0                    0   \n",
       "22030 2020-12-14               Vermont             0                    0   \n",
       "22032 2020-12-14           Mississippi             0                    0   \n",
       "22033 2020-12-14                Nevada             0                    0   \n",
       "\n",
       "       Administered_18Plus  Administered_65Plus  Series_Complete_Yes  \\\n",
       "0                  7389860              2431771              3440272   \n",
       "1                  2005383               695187               964009   \n",
       "2                  7531012              2412611              3355930   \n",
       "5                  1084669               219742               449491   \n",
       "6                  5681965              1970994              2621180   \n",
       "...                    ...                  ...                  ...   \n",
       "22025                    0                    0                    0   \n",
       "22026                    0                    0                    0   \n",
       "22030                    0                    0                    0   \n",
       "22032                    0                    0                    0   \n",
       "22033                    0                    0                    0   \n",
       "\n",
       "       Series_Complete_12Plus  Series_Complete_18Plus  Series_Complete_65Plus  \n",
       "0                     3440016                 3230556                  940658  \n",
       "1                      963965                  908548                  274302  \n",
       "2                     3355609                 3184450                  928581  \n",
       "5                      449429                  430040                   76083  \n",
       "6                     2618297                 2474631                  785941  \n",
       "...                       ...                     ...                     ...  \n",
       "22025                       0                       0                       0  \n",
       "22026                       0                       0                       0  \n",
       "22030                       0                       0                       0  \n",
       "22032                       0                       0                       0  \n",
       "22033                       0                       0                       0  \n",
       "\n",
       "[16660 rows x 10 columns]"
      ]
     },
     "execution_count": 35,
     "metadata": {},
     "output_type": "execute_result"
    }
   ],
   "source": [
    "features = ['Date','Location','Administered','Administered_12Plus','Administered_18Plus','Administered_65Plus', \n",
    "           'Series_Complete_Yes', 'Series_Complete_12Plus','Series_Complete_18Plus', 'Series_Complete_65Plus']\n",
    "cont_vaccine_data = cont_vaccine_data[features]\n",
    "cont_vaccine_data"
   ]
  },
  {
   "cell_type": "markdown",
   "id": "ecea61ec",
   "metadata": {},
   "source": [
    "### Visualizations \n",
    "\n",
    "To get a sense of what the vaccine data looks like and any potentially missing values, let's plot some of the features of interest over time, focusing on a single state (California). "
   ]
  },
  {
   "cell_type": "code",
   "execution_count": 36,
   "id": "8c512d38",
   "metadata": {},
   "outputs": [],
   "source": [
    "import seaborn as sns\n",
    "import matplotlib.pyplot as plt"
   ]
  },
  {
   "cell_type": "code",
   "execution_count": 37,
   "id": "970d9ca7",
   "metadata": {},
   "outputs": [],
   "source": [
    "ca_data = cont_vaccine_data[cont_vaccine_data['Location']=='California']"
   ]
  },
  {
   "cell_type": "code",
   "execution_count": 38,
   "id": "ac23bae5",
   "metadata": {},
   "outputs": [
    {
     "data": {
      "image/png": "[encoded data removed]",
      "text/plain": [
       "<Figure size 432x288 with 1 Axes>"
      ]
     },
     "metadata": {
      "needs_background": "light"
     },
     "output_type": "display_data"
    }
   ],
   "source": [
    "# very inconsistent in when the data for smaller categories was reported, as seen by the jumps. \n",
    "sns.lineplot(data=ca_data, x='Date', y='Administered_12Plus', label=\"12+\")\n",
    "sns.lineplot(data=ca_data, x='Date', y='Administered', label=\"Total\");\n",
    "sns.lineplot(data=ca_data, x='Date', y='Administered_18Plus', label=\"18+\");\n",
    "sns.lineplot(data=ca_data, x='Date', y='Administered_65Plus', label=\"65+\");\n",
    "plt.legend();"
   ]
  },
  {
   "cell_type": "markdown",
   "id": "b0e6591c",
   "metadata": {},
   "source": [
    "We see some significant jumps in the `_XXPlus` categories, probably deriving from changes in how vaccine data was reported over time as age recommendations and approvals changed. For now, we will stick with `Administered` to get an overall metric of vaccine roll-out by state. "
   ]
  },
  {
   "cell_type": "code",
   "execution_count": 39,
   "id": "666cd612",
   "metadata": {},
   "outputs": [
    {
     "data": {
      "image/png": "[encoded data removed]",
      "text/plain": [
       "<Figure size 432x288 with 1 Axes>"
      ]
     },
     "metadata": {
      "needs_background": "light"
     },
     "output_type": "display_data"
    }
   ],
   "source": [
    "sns.lineplot(data=ca_data, x='Date', y='Series_Complete_Yes', label=\"Total\", linewidth = 3)\n",
    "sns.lineplot(data=ca_data, x='Date', y='Series_Complete_12Plus', label=\"12+\");\n",
    "sns.lineplot(data=ca_data, x='Date', y='Series_Complete_18Plus', label=\"18+\");\n",
    "sns.lineplot(data=ca_data, x='Date', y='Series_Complete_65Plus', label=\"65+\");\n",
    "plt.legend();"
   ]
  },
  {
   "cell_type": "markdown",
   "id": "063c1c7c",
   "metadata": {},
   "source": [
    "Here we see jumps for all categories, including the overall `Series_Complete_Yes` metric. However this jump might be explained by the synronous nature of the initial roll-out, with everyone getting vaccinated at the first opportunity being on the same timeline for being full vaccinated. "
   ]
  },
  {
   "cell_type": "markdown",
   "id": "6b0f63ab",
   "metadata": {},
   "source": [
    "### Save Processed Data\n",
    "\n",
    "Now we save this cleaned and processed data to csv files to be used in our future modeling and analysis. For consistency we change \"Location\" to \"State\". "
   ]
  },
  {
   "cell_type": "code",
   "execution_count": 43,
   "id": "8e7a9457",
   "metadata": {},
   "outputs": [],
   "source": [
    "cont_vaccine_data = cont_vaccine_data.rename(columns={\"Location\":\"State\"})"
   ]
  },
  {
   "cell_type": "code",
   "execution_count": 44,
   "id": "d1414343",
   "metadata": {},
   "outputs": [],
   "source": [
    "keep_features = ['Date','State','Administered',#'Administered_12Plus','Administered_18Plus','Administered_65Plus', \n",
    "                   'Series_Complete_Yes']#, 'Series_Complete_12Plus','Series_Complete_18Plus', 'Series_Complete_65Plus']\n",
    "cont_vaccine_data = cont_vaccine_data[keep_features]"
   ]
  },
  {
   "cell_type": "code",
   "execution_count": 45,
   "id": "b3a1f2ed",
   "metadata": {},
   "outputs": [],
   "source": [
    "cont_vaccine_data.to_csv('../data/vaccine_data.csv')"
   ]
  },
  {
   "cell_type": "code",
   "execution_count": null,
   "id": "4526b804",
   "metadata": {},
   "outputs": [],
   "source": []
  }
 ],
 "metadata": {
  "kernelspec": {
   "display_name": "Python 3 (ipykernel)",
   "language": "python",
   "name": "python3"
  },
  "language_info": {
   "codemirror_mode": {
    "name": "ipython",
    "version": 3
   },
   "file_extension": ".py",
   "mimetype": "text/x-python",
   "name": "python",
   "nbconvert_exporter": "python",
   "pygments_lexer": "ipython3",
   "version": "3.9.8"
  }
 },
 "nbformat": 4,
 "nbformat_minor": 5
}
