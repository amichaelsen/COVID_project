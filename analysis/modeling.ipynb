{
 "cells": [
  {
   "cell_type": "markdown",
   "id": "3efbb83e",
   "metadata": {},
   "source": [
    "## COVID Analysis\n",
    "\n",
    "\n",
    "### The Data\n",
    "   * COVID case data compiled by the Center for Systems Science and Engineering (CSSE) at Johns Hopkins University and stored [here](https://github.com/CSSEGISandData/COVID-19/tree/master/csse_covid_19_data#usa-daily-state-reports-csse_covid_19_daily_reports_us)\n",
    "   * Census population data from [Kaggle](https://www.kaggle.com/peretzcohen/2019-census-us-population-data-by-state), for scaling case numbers \n",
    "   * CDC Vaccine Data (processed in `vaccine_data_processing.ipynb`)\n",
    "   * NOAA Weather Data (processed in `weather_data_processing.ipynb`)\n",
    " \n",
    "#### Data Processing \n",
    "\n",
    "The data sets have already been cleaned and processing for key features and saved to the `data/` folder. \n",
    "\n",
    "### Modeling\n"
   ]
  },
  {
   "cell_type": "code",
   "execution_count": 1,
   "id": "281800fa",
   "metadata": {},
   "outputs": [],
   "source": [
    "# data handling\n",
    "import pandas as pd\n",
    "import numpy as np\n",
    "\n",
    "# seaborn and matplotlib for visualization\n",
    "import seaborn as sns\n",
    "import matplotlib.pyplot as plt"
   ]
  },
  {
   "cell_type": "code",
   "execution_count": 2,
   "id": "48d9fa25",
   "metadata": {},
   "outputs": [],
   "source": [
    "covid_data = pd.read_csv('../data/processed_us_daily_reports.csv')\n",
    "hist_weather_data = pd.read_csv('../data/historical_monthly_temp_avgs_by_state.csv')\n",
    "monthly_weather_data = pd.read_csv('../data/monthly_temps_by_state.csv')\n",
    "vaccine_data = pd.read_csv('../data/vaccine_data.csv')"
   ]
  },
  {
   "cell_type": "code",
   "execution_count": null,
   "id": "c69cae3b",
   "metadata": {},
   "outputs": [],
   "source": []
  }
 ],
 "metadata": {
  "kernelspec": {
   "display_name": "Python 3 (ipykernel)",
   "language": "python",
   "name": "python3"
  },
  "language_info": {
   "codemirror_mode": {
    "name": "ipython",
    "version": 3
   },
   "file_extension": ".py",
   "mimetype": "text/x-python",
   "name": "python",
   "nbconvert_exporter": "python",
   "pygments_lexer": "ipython3",
   "version": "3.9.8"
  }
 },
 "nbformat": 4,
 "nbformat_minor": 5
}
